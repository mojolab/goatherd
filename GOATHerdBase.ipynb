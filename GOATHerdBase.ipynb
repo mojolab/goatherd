{
 "cells": [
  {
   "cell_type": "markdown",
   "id": "c1bc99e8",
   "metadata": {},
   "source": [
    "# GOATHerd Base"
   ]
  },
  {
   "cell_type": "code",
   "execution_count": 3,
   "id": "aa0be18b-6827-47e6-8e59-e423c96af84d",
   "metadata": {},
   "outputs": [
    {
     "name": "stdout",
     "output_type": "stream",
     "text": [
      "{'username': 'neo4jroot', 'password': 'theansweris42', 'dbname': 'neo4j', 'dburl': 'host.docker.internal:7687', 'dbport': '7687'}\n"
     ]
    }
   ],
   "source": [
    "import sys\n",
    "\n",
    "sys.path.append(\"/opt/xpal-data/goatherd\")\n",
    "\n",
    "from goatherd import *\n",
    "# Connect to the GOATs\n",
    "neo4jconfig=get_mgc(\"neo4j\")\n",
    "print(neo4jconfig)\n",
    "neo4jdb=Neo4jGoat(neo4jconfig)"
   ]
  },
  {
   "cell_type": "code",
   "execution_count": 4,
   "id": "ab96b382",
   "metadata": {},
   "outputs": [],
   "source": [
    "labels=[\n",
    "    'Person',\n",
    "    'Organization',\n",
    "    'Company',\n",
    "    'NGO',\n",
    "    'Govt Body',\n",
    "    'Division',\n",
    "    'Node',\n",
    "    'Outcome',\n",
    "    'Cost',\n",
    "    'Output',\n",
    "    'Lever',\n",
    "    'Pillar',\n",
    "    'BoW',\n",
    "    'Strategy',\n",
    "    'Investment',\n",
    "    'Funding Envelope'\n",
    "]\n",
    "def update_keystones(goat):\n",
    "    k1=goat.add_node(nodeid=\"__keystone1\")\n",
    "    k2=goat.add_node(nodeid=\"__keystone2\")\n",
    "    goat.update_labels(\"__keystone1\",labels)\n",
    "    goat.update_labels(\"__keystone2\",labels)\n",
    "\n",
    "    k1.isthesameas.add(k2)\n",
    "    k1.linkedto.add(k2)\n",
    "    k2.isthesameas.add(k1)\n",
    "    k2.linkedto.add(k1)\n",
    "    goat.repo.save(k2)\n",
    "    goat.repo.save(k1)"
   ]
  },
  {
   "cell_type": "code",
   "execution_count": 5,
   "id": "0432c5ab",
   "metadata": {
    "scrolled": true
   },
   "outputs": [
    {
     "name": "stdout",
     "output_type": "stream",
     "text": [
      "[{'Cost': 2}, {'Person': 2}, {'Company': 2}, {'Outcome': 2}, {'Node': 2}, {'Organization': 2}, {'Pillar': 2}, {'Strategy': 2}, {'NGO': 2}, {'BoW': 2}, {'Lever': 2}, {'Division': 2}, {'Investment': 2}, {'Govt Body': 2}, {'Funding Envelope': 2}, {'Output': 2}]\n",
      "__keystone1\n",
      "Node exists\n",
      "__keystone2\n",
      "Node exists\n",
      "[{'Cost': 2}, {'Person': 2}, {'Company': 2}, {'Outcome': 2}, {'Node': 2}, {'Organization': 2}, {'Pillar': 2}, {'Strategy': 2}, {'NGO': 2}, {'BoW': 2}, {'Lever': 2}, {'Division': 2}, {'Investment': 2}, {'Govt Body': 2}, {'Funding Envelope': 2}, {'Output': 2}]\n"
     ]
    }
   ],
   "source": [
    "print(neo4jdb.get_compostion())\n",
    "update_keystones(neo4jdb)\n",
    "print(neo4jdb.get_compostion())"
   ]
  }
 ],
 "metadata": {
  "interpreter": {
   "hash": "98f7b2b1eedf4e83e0e3fb4673231b2b43c792c4384a9f2eaf7ea67ba3e2d0fd"
  },
  "kernelspec": {
   "display_name": "Python 3 (ipykernel)",
   "language": "python",
   "name": "python3"
  },
  "language_info": {
   "codemirror_mode": {
    "name": "ipython",
    "version": 3
   },
   "file_extension": ".py",
   "mimetype": "text/x-python",
   "name": "python",
   "nbconvert_exporter": "python",
   "pygments_lexer": "ipython3",
   "version": "3.8.10"
  }
 },
 "nbformat": 4,
 "nbformat_minor": 5
}
