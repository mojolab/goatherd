{
 "cells": [
  {
   "cell_type": "markdown",
   "id": "c1bc99e8",
   "metadata": {},
   "source": [
    "# GOATHerd Base"
   ]
  },
  {
   "cell_type": "code",
   "execution_count": 13,
   "id": "aa0be18b-6827-47e6-8e59-e423c96af84d",
   "metadata": {},
   "outputs": [
    {
     "name": "stdout",
     "output_type": "stream",
     "text": [
      "{'username': 'neo4j', 'password': 'theansweris42', 'dbname': 'neo4j', 'dburl': 'localhost:7687', 'dbport': '7687'}\n"
     ]
    }
   ],
   "source": [
    "import sys\n",
    "\n",
    "sys.path.append(\"/xpal-src/goatherd\")\n",
    "\n",
    "from goatherd import *\n",
    "# Connect to the GOATs\n",
    "neo4jconfig=get_mgc(\"neo4j\")\n",
    "print(neo4jconfig)\n",
    "neo4jdb=Neo4jGoat(neo4jconfig)"
   ]
  },
  {
   "cell_type": "code",
   "execution_count": 21,
   "id": "ab96b382",
   "metadata": {},
   "outputs": [],
   "source": [
    "labels=[\n",
    "    'Person',\n",
    "    'Brand',\n",
    "    'Company',\n",
    "    'NGO',\n",
    "    'Govt Body',\n",
    "    'Node',\n",
    "]\n",
    "def update_keystones(goat):\n",
    "    k1=goat.add_node(nodeid=\"__keystone1\")\n",
    "    k2=goat.add_node(nodeid=\"__keystone2\")\n",
    "    goat.update_labels(\"__keystone1\",labels)\n",
    "    goat.update_labels(\"__keystone2\",labels)\n",
    "\n",
    "    k1.isthesameas.add(k2)\n",
    "    k1.linkedto.add(k2)\n",
    "    k2.isthesameas.add(k1)\n",
    "    k2.linkedto.add(k1)\n",
    "    goat.repo.save(k2)\n",
    "    goat.repo.save(k1)"
   ]
  },
  {
   "cell_type": "code",
   "execution_count": 22,
   "id": "0432c5ab",
   "metadata": {
    "scrolled": true
   },
   "outputs": [
    {
     "name": "stdout",
     "output_type": "stream",
     "text": [
      "[{'Node': 1}, {'Organization': 1}, {'Company': 1}]\n",
      "__keystone1\n",
      "Adding new node\n",
      "__keystone2\n",
      "Adding new node\n",
      "[{'Person': 2}, {'Govt Body': 2}, {'NGO': 2}, {'Brand': 2}, {'Company': 3}, {'Node': 3}, {'Organization': 1}]\n"
     ]
    }
   ],
   "source": [
    "print(neo4jdb.get_compostion())\n",
    "update_keystones(neo4jdb)\n",
    "print(neo4jdb.get_compostion())"
   ]
  },
  {
   "cell_type": "code",
   "execution_count": 11,
   "id": "42abb074",
   "metadata": {},
   "outputs": [],
   "source": [
    "company={\"nodeid\": \"U85300DL2022PTC402649\", \"companyname\": \"HCAH SENIOR CARE PRIVATE LIMITED\", \"urls\": [\"https://www.tofler.in/hcah-senior-care-private-limited/company/U85300DL2022PTC402649\", \"https://www.hcah.in\"], \"labels\": [\"Company\", \"Organization\", \"Node\"]}"
   ]
  },
  {
   "cell_type": "code",
   "execution_count": 12,
   "id": "42643e35",
   "metadata": {},
   "outputs": [
    {
     "data": {
      "text/plain": [
       "{'nodeid': 'U85300DL2022PTC402649',\n",
       " 'companyname': 'HCAH SENIOR CARE PRIVATE LIMITED',\n",
       " 'urls': ['https://www.tofler.in/hcah-senior-care-private-limited/company/U85300DL2022PTC402649',\n",
       "  'https://www.hcah.in'],\n",
       " 'labels': ['Company', 'Organization', 'Node']}"
      ]
     },
     "execution_count": 12,
     "metadata": {},
     "output_type": "execute_result"
    }
   ],
   "source": [
    "company\n"
   ]
  },
  {
   "cell_type": "code",
   "execution_count": 18,
   "id": "6b343385",
   "metadata": {},
   "outputs": [
    {
     "name": "stdout",
     "output_type": "stream",
     "text": [
      "U85300DL2022PTC402649\n",
      "Node exists\n"
     ]
    }
   ],
   "source": [
    "n=neo4jdb.add_node(**company)"
   ]
  },
  {
   "cell_type": "code",
   "execution_count": 20,
   "id": "03cc70b9",
   "metadata": {},
   "outputs": [
    {
     "data": {
      "text/plain": [
       ":Company:Node:Organization"
      ]
     },
     "execution_count": 20,
     "metadata": {},
     "output_type": "execute_result"
    }
   ],
   "source": [
    "neo4jdb.update_labels(n.nodeid,company['labels'])"
   ]
  },
  {
   "cell_type": "code",
   "execution_count": null,
   "id": "9ca5e678",
   "metadata": {},
   "outputs": [],
   "source": []
  }
 ],
 "metadata": {
  "interpreter": {
   "hash": "98f7b2b1eedf4e83e0e3fb4673231b2b43c792c4384a9f2eaf7ea67ba3e2d0fd"
  },
  "kernelspec": {
   "display_name": "Python 3 (ipykernel)",
   "language": "python",
   "name": "python3"
  },
  "language_info": {
   "codemirror_mode": {
    "name": "ipython",
    "version": 3
   },
   "file_extension": ".py",
   "mimetype": "text/x-python",
   "name": "python",
   "nbconvert_exporter": "python",
   "pygments_lexer": "ipython3",
   "version": "3.10.6"
  }
 },
 "nbformat": 4,
 "nbformat_minor": 5
}
