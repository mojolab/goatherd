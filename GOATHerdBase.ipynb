{
 "cells": [
  {
   "cell_type": "markdown",
   "id": "c1bc99e8",
   "metadata": {},
   "source": [
    "# GOATHerd Base"
   ]
  },
  {
   "cell_type": "code",
   "execution_count": 2,
   "id": "aa0be18b-6827-47e6-8e59-e423c96af84d",
   "metadata": {},
   "outputs": [
    {
     "name": "stdout",
     "output_type": "stream",
     "text": [
      "{'username': 'neo4j', 'password': 'theansweris42', 'dbname': 'gegoat', 'dburl': 'host.docker.internal:7687', 'dbport': '7687'}\n"
     ]
    }
   ],
   "source": [
    "import sys\n",
    "\n",
    "sys.path.append(\"/xpal-src/goatherd\")\n",
    "\n",
    "from goatherd import *\n",
    "# Connect to the GOATs\n",
    "neo4jconfig=get_mgc(\"gegoat\")\n",
    "print(neo4jconfig)\n",
    "neo4jdb=Neo4jGoat(neo4jconfig)"
   ]
  },
  {
   "cell_type": "code",
   "execution_count": 3,
   "id": "ab96b382",
   "metadata": {},
   "outputs": [],
   "source": [
    "labels=[\n",
    "    'Person',\n",
    "    'Brand',\n",
    "    'Company',\n",
    "    'NGO',\n",
    "    'Govt Body',\n",
    "    'Node',\n",
    "]\n",
    "def update_keystones(goat):\n",
    "    k1=goat.add_node(nodeid=\"__keystone1\")\n",
    "    k2=goat.add_node(nodeid=\"__keystone2\")\n",
    "    goat.update_labels(\"__keystone1\",labels)\n",
    "    goat.update_labels(\"__keystone2\",labels)\n",
    "\n",
    "    k1.isthesameas.add(k2)\n",
    "    k1.linkedto.add(k2)\n",
    "    k2.isthesameas.add(k1)\n",
    "    k2.linkedto.add(k1)\n",
    "    goat.repo.save(k2)\n",
    "    goat.repo.save(k1)"
   ]
  },
  {
   "cell_type": "code",
   "execution_count": 4,
   "id": "0432c5ab",
   "metadata": {
    "scrolled": true
   },
   "outputs": [
    {
     "name": "stdout",
     "output_type": "stream",
     "text": [
      "[{'Company': 2}, {'Contract': 2}, {'Person': 2}, {'Funding Source': 2}, {'Brand': 2}, {'Partner': 2}, {'Govt Body': 2}, {'Investment Officer': 8}, {'Grant': 2}, {'NGO': 2}, {'Node': 86}, {'Investment': 80}]\n",
      "__keystone1\n",
      "Node exists\n",
      "__keystone2\n",
      "Node exists\n",
      "[{'Company': 2}, {'Contract': 2}, {'Person': 2}, {'Funding Source': 2}, {'Brand': 2}, {'Partner': 2}, {'Govt Body': 2}, {'Investment Officer': 8}, {'Grant': 2}, {'NGO': 2}, {'Node': 86}, {'Investment': 80}]\n"
     ]
    },
    {
     "data": {
      "text/plain": [
       "[{'Company': 2},\n",
       " {'Contract': 2},\n",
       " {'Person': 2},\n",
       " {'Funding Source': 2},\n",
       " {'Brand': 2},\n",
       " {'Partner': 2},\n",
       " {'Govt Body': 2},\n",
       " {'Investment Officer': 8},\n",
       " {'Grant': 2},\n",
       " {'NGO': 2},\n",
       " {'Node': 86},\n",
       " {'Investment': 80}]"
      ]
     },
     "execution_count": 4,
     "metadata": {},
     "output_type": "execute_result"
    }
   ],
   "source": [
    "print(neo4jdb.get_compostion())\n",
    "update_keystones(neo4jdb)\n",
    "print(neo4jdb.get_compostion())\n",
    "neo4jdb.get_compostion()"
   ]
  },
  {
   "cell_type": "code",
   "execution_count": 11,
   "id": "42abb074",
   "metadata": {},
   "outputs": [],
   "source": [
    "company={\"nodeid\": \"U85300DL2022PTC402649\", \"companyname\": \"HCAH SENIOR CARE PRIVATE LIMITED\", \"urls\": [\"https://www.tofler.in/hcah-senior-care-private-limited/company/U85300DL2022PTC402649\", \"https://www.hcah.in\"], \"labels\": [\"Company\", \"Organization\", \"Node\"]}"
   ]
  },
  {
   "cell_type": "code",
   "execution_count": 12,
   "id": "42643e35",
   "metadata": {},
   "outputs": [
    {
     "data": {
      "text/plain": [
       "{'nodeid': 'U85300DL2022PTC402649',\n",
       " 'companyname': 'HCAH SENIOR CARE PRIVATE LIMITED',\n",
       " 'urls': ['https://www.tofler.in/hcah-senior-care-private-limited/company/U85300DL2022PTC402649',\n",
       "  'https://www.hcah.in'],\n",
       " 'labels': ['Company', 'Organization', 'Node']}"
      ]
     },
     "execution_count": 12,
     "metadata": {},
     "output_type": "execute_result"
    }
   ],
   "source": [
    "company\n"
   ]
  },
  {
   "cell_type": "code",
   "execution_count": 18,
   "id": "6b343385",
   "metadata": {},
   "outputs": [
    {
     "name": "stdout",
     "output_type": "stream",
     "text": [
      "U85300DL2022PTC402649\n",
      "Node exists\n"
     ]
    }
   ],
   "source": [
    "n=neo4jdb.add_node(**company)"
   ]
  },
  {
   "cell_type": "code",
   "execution_count": 20,
   "id": "03cc70b9",
   "metadata": {},
   "outputs": [
    {
     "data": {
      "text/plain": [
       ":Company:Node:Organization"
      ]
     },
     "execution_count": 20,
     "metadata": {},
     "output_type": "execute_result"
    }
   ],
   "source": [
    "neo4jdb.update_labels(n.nodeid,company['labels'])"
   ]
  },
  {
   "cell_type": "code",
   "execution_count": null,
   "id": "9ca5e678",
   "metadata": {},
   "outputs": [],
   "source": [
    "#Get the list of relationships defined in the IncDig excel sheet\n",
    "file_path = \"/xpal-data/IncDig.xlsx\"\n",
    "df = pd.read_excel(file_path,\"RelLabels\")\n",
    "print(df)\n",
    "reldict=df.to_dict(orient=\"records\")\n",
    "def get_rel_labels(rel):\n",
    "    return [x for x in reldict if x['rel']==rel]\n",
    "file_path = \"/xpal-data/IncDig.xlsx\"\n",
    "df = pd.read_excel(file_path)\n",
    "rellist=df.to_dict(orient=\"records\")\n",
    "rellist,reldict\n",
    "\n",
    "# Write df back to the same worksheet \n",
    "with pd.ExcelWriter(file_path, engine='openpyxl', mode='a') as writer:\n",
    "    df.to_excel(writer, sheet_name=\"RelLabels\",index=False)\n",
    "\n",
    "for rel in rellist:\n",
    "    labels=get_rel_labels(rel['story'])\n",
    "    sourcelabels=list(set([\"Node\"]+list(neo4jdb.get_labels(rel['source']))+[x.lstrip().rstrip() for x in labels['sourcelabels'].lstrip().strip().split(\",\")]))\n",
    "    targetlabels=list(set([\"Node\"]+list(neo4jdb.get_labels(rel['target']))+[x.lstrip().rstrip() for x in labels['targetlabels'].lstrip().strip().split(\",\")]))\n",
    "    neo4jdb.update_labels(rel['source'],sourcelabels)\n",
    "    neo4jdb.update_labels(rel['target'],targetlabels)\n",
    "\n",
    "\n",
    "    \n",
    "    "
   ]
  },
  {
   "cell_type": "code",
   "execution_count": null,
   "id": "4426367a",
   "metadata": {},
   "outputs": [],
   "source": [
    "for row in sherrymap:\n",
    "    rels=[]\n",
    "    invnodeid=row['invid'].lower().lstrip().rstrip().replace(\"-\",\"\")\n",
    "    source=neo4jdb.repo.match(Node,invnodeid).first()\n",
    "    if source is None:\n",
    "        print(\"Adding Investment\")\n",
    "        add_investment(invdict)\n",
    "    story=row['story'].lstrip().rstrip()\n",
    "    if row['qtarget']!=\"\":\n",
    "        try:\n",
    "            qtarget=neo4jdb.repo.match(Node,row['qtarget'].lstrip().strip()).first()\n",
    "            if qtarget is not None:\n",
    "                print(source.nodeid,story,qtarget.nodeid)\n",
    "        except:\n",
    "            print(row)\n",
    "    starget=neo4jdb.repo.match(Node,row['sectarget'].lstrip().strip()).first()\n",
    "    if starget is not None:\n",
    "        print(source.nodeid,story,starget.nodeid)\n",
    "    "
   ]
  }
 ],
 "metadata": {
  "interpreter": {
   "hash": "98f7b2b1eedf4e83e0e3fb4673231b2b43c792c4384a9f2eaf7ea67ba3e2d0fd"
  },
  "kernelspec": {
   "display_name": "Python 3 (ipykernel)",
   "language": "python",
   "name": "python3"
  },
  "language_info": {
   "codemirror_mode": {
    "name": "ipython",
    "version": 3
   },
   "file_extension": ".py",
   "mimetype": "text/x-python",
   "name": "python",
   "nbconvert_exporter": "python",
   "pygments_lexer": "ipython3",
   "version": "3.10.6"
  }
 },
 "nbformat": 4,
 "nbformat_minor": 5
}
